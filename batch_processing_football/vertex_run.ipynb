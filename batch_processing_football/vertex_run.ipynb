{
 "cells": [
  {
   "cell_type": "code",
   "execution_count": 17,
   "metadata": {},
   "outputs": [],
   "source": [
    "from kfp import dsl\n",
    "from kfp.dsl import (\n",
    "    component, \n",
    "    Output,\n",
    "    Input,\n",
    "    Model\n",
    ")\n",
    "\n",
    "from kfp import compiler\n",
    "from google.cloud import aiplatform"
   ]
  },
  {
   "cell_type": "code",
   "execution_count": null,
   "metadata": {},
   "outputs": [],
   "source": [
    "BASE_IMAGE = \"europe-west3-docker.pkg.dev/bda-gameon-demo/vertex/base_football_container:latest\""
   ]
  },
  {
   "cell_type": "code",
   "execution_count": null,
   "metadata": {},
   "outputs": [],
   "source": [
    "@component(\n",
    "    base_image=BASE_IMAGE\n",
    ")\n",
    "def load_and_preprocess(\n",
    "    gamesweek: int,\n",
    "    competitionId: int,\n",
    "):\n",
    "    import requests\n",
    "    from vertex_utils import (\n",
    "        prepare_df_from_events_api,\n",
    "        prepare_df_from_matches_api,\n",
    "        fetch_events_data,\n",
    "        merge_events_and_matches,\n",
    "        enrich_with_tags_names,\n",
    "        save_historic_to_big_query,\n",
    "        prepare_aggregations,\n",
    "    )\n",
    "    \n",
    "    API_BASE_URL = \"https://big-data-project-api-248863766350.europe-west3.run.app/laps\"\n",
    "\n",
    "    # Fetch matches for the given gameweek and competitionId\n",
    "    api_match_url = f\"{API_BASE_URL}/matches?gameweek={gamesweek}&competitionId={competitionId}\"\n",
    "\n",
    "    print(f\"Fetching match info for competition: {competitionId} and gameweek: {gamesweek}...\")\n",
    "    response_matches = requests.get(api_match_url)\n",
    "    matches_data = response_matches.json()\n",
    "\n",
    "    if \"matches\" not in matches_data:\n",
    "        raise ValueError(\"Invalid matches data format received from API.\")\n",
    "\n",
    "    print(f\"Gathering match info for competition: {competitionId} and gamesweek: {gamesweek}...\")\n",
    "    match_df = prepare_df_from_matches_api(matches_data)\n",
    "\n",
    "    print(f\"Fetching events data for competition: {competitionId} and gameweek: {gamesweek}...\")\n",
    "    events_data = fetch_events_data(matches_data, API_BASE_URL)\n",
    "\n",
    "    # Convert events data to a DataFrame\n",
    "    print(f\"Preparing events DataFrame for competition: {competitionId} and gameweek: {gamesweek}...\")\n",
    "    events_df = prepare_df_from_events_api(events_data)\n",
    "\n",
    "    print(\"Merging events and match data...\")\n",
    "    df = merge_events_and_matches(events_df, match_df)\n",
    "\n",
    "    print(\"Enriching with tags names...\")\n",
    "    df = enrich_with_tags_names(df)\n",
    "\n",
    "    print(\"Preparing aggregations...\")\n",
    "    aggregations = prepare_aggregations(df)\n",
    "\n",
    "    print(\"Saving aggregations to BigQuery...\")\n",
    "    save_historic_to_big_query(aggregations)"
   ]
  },
  {
   "cell_type": "code",
   "execution_count": null,
   "metadata": {},
   "outputs": [],
   "source": [
    "@component(\n",
    "    base_image=BASE_IMAGE\n",
    ")\n",
    "def train_model():\n",
    "    from google.cloud import bigquery\n",
    "\n",
    "    query = \"\"\"    \n",
    "        CREATE OR REPLACE MODEL football.lightgbm_model\n",
    "        OPTIONS(model_type='BOOSTED_TREE_CLASSIFIER',\n",
    "                input_label_cols=['label'],\n",
    "                budget_hours=1)\n",
    "        AS\n",
    "        SELECT\n",
    "            *\n",
    "        FROM\n",
    "            `bda-gameon-demo.football.historic_aggregations`\n",
    "    \"\"\"\n",
    "\n",
    "    client = bigquery.Client(project=\"bda-gameon-demo\")\n",
    "    client.query(query).result()"
   ]
  },
  {
   "cell_type": "code",
   "execution_count": null,
   "metadata": {},
   "outputs": [],
   "source": [
    "@dsl.pipeline(name=\"batch_processing\", description=\"Pipeline responsible for batch processing and model training\")\n",
    "def batch_processing_pipeline(\n",
    "    gamesweek: int = 1,\n",
    "    competitionId: int = 364,\n",
    "):\n",
    "    load_and_preprocess_step = load_and_preprocess(\n",
    "        gamesweek=gamesweek,\n",
    "        competitionId=competitionId\n",
    "    ).set_display_name(\"Load and Preprocess\")\n",
    "\n",
    "    train_model_step = train_model().after(load_and_preprocess_step).set_display_name(\"Train Model\")"
   ]
  },
  {
   "cell_type": "code",
   "execution_count": null,
   "metadata": {},
   "outputs": [],
   "source": [
    "compiler.Compiler().compile(\n",
    "    pipeline_func=batch_processing_pipeline,\n",
    "    package_path=\"batch_processing_pipeline.json\",\n",
    ")\n",
    "\n",
    "aiplatform.init(project=\"bda-gameon-demo\", location=\"europe-west3\")\n",
    "\n",
    "pipeline_job = aiplatform.PipelineJob(\n",
    "    display_name=\"batch_processing_job\",\n",
    "    template_path=\"batch_processing_pipeline.json\",\n",
    "    parameter_values={\n",
    "        \"gamesweek\": 1,\n",
    "        \"competitionId\": 364,\n",
    "    },\n",
    ")\n",
    "\n",
    "pipeline_job.run(sync=True)"
   ]
  }
 ],
 "metadata": {
  "kernelspec": {
   "display_name": "big_data",
   "language": "python",
   "name": "python3"
  },
  "language_info": {
   "codemirror_mode": {
    "name": "ipython",
    "version": 3
   },
   "file_extension": ".py",
   "mimetype": "text/x-python",
   "name": "python",
   "nbconvert_exporter": "python",
   "pygments_lexer": "ipython3",
   "version": "3.10.15"
  }
 },
 "nbformat": 4,
 "nbformat_minor": 2
}
